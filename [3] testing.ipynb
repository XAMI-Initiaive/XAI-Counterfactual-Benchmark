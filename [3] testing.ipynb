{
 "cells": [
  {
   "cell_type": "code",
   "execution_count": null,
   "metadata": {},
   "outputs": [
    {
     "ename": "",
     "evalue": "",
     "output_type": "error",
     "traceback": [
      "\u001b[1;31mThe Kernel crashed while executing code in the the current cell or a previous cell. Please review the code in the cell(s) to identify a possible cause of the failure. Click <a href='https://aka.ms/vscodeJupyterKernelCrash'>here</a> for more info. View Jupyter <a href='command:jupyter.viewOutput'>log</a> for further details."
     ]
    }
   ],
   "source": [
    "!pip install alibi[ray]\n"
   ]
  },
  {
   "cell_type": "code",
   "execution_count": 1,
   "metadata": {},
   "outputs": [
    {
     "name": "stdout",
     "output_type": "stream",
     "text": [
      "TF version:  2.15.0\n",
      "Eager execution enabled:  True\n"
     ]
    }
   ],
   "source": [
    "import tensorflow as tf\n",
    "import pandas as pd\n",
    "import numpy as np\n",
    "\n",
    "from utils.df_loader import load_adult_df, load_compas_df, load_german_df, load_diabetes_df, load_breast_cancer_df, load_electricity_df\n",
    "from utils.preprocessing import preprocess_df,get_columns_type\n",
    "from sklearn.model_selection import train_test_split\n",
    "from utils.dice import generate_dice_result, process_results\n",
    "from utils.models import train_three_models, evaluation_test, save_three_models, load_three_models\n",
    "from utils.save import save_result_as_csv\n",
    "\n",
    "pd.options.mode.chained_assignment = None \n",
    "\n",
    "print('TF version: ', tf.__version__)\n",
    "print('Eager execution enabled: ', tf.executing_eagerly()) # False\n",
    "\n",
    "seed = 123\n",
    "tf.random.set_seed(seed)\n",
    "np.random.seed(seed)\n"
   ]
  },
  {
   "cell_type": "code",
   "execution_count": 5,
   "metadata": {},
   "outputs": [],
   "source": [
    "#### Select dataset ####'\n",
    "\n",
    "dataset_name = 'adult' # [adult, german, compas]\n",
    "\n",
    "if dataset_name == 'electricity':\n",
    "    dataset_loading_fn = load_electricity_df\n",
    "elif dataset_name == 'adult':\n",
    "    dataset_loading_fn = load_adult_df\n",
    "elif dataset_name == 'german':\n",
    "    dataset_loading_fn = load_german_df\n",
    "elif dataset_name == 'compas':\n",
    "    dataset_loading_fn = load_compas_df\n",
    "elif dataset_name == 'diabetes':\n",
    "    dataset_loading_fn = load_diabetes_df\n",
    "elif dataset_name == 'breast_cancer':\n",
    "    dataset_loading_fn = load_breast_cancer_df\n",
    "else:\n",
    "    raise Exception(\"Unsupported dataset\")"
   ]
  },
  {
   "cell_type": "code",
   "execution_count": 6,
   "metadata": {},
   "outputs": [
    {
     "data": {
      "text/plain": [
       "DfInfo(df=       age         workclass   education      marital-status  \\\n",
       "0       39         State-gov   Bachelors       Never-married   \n",
       "1       50  Self-emp-not-inc   Bachelors  Married-civ-spouse   \n",
       "2       38           Private     HS-grad            Divorced   \n",
       "3       53           Private        11th  Married-civ-spouse   \n",
       "4       28           Private   Bachelors  Married-civ-spouse   \n",
       "...    ...               ...         ...                 ...   \n",
       "32556   27           Private  Assoc-acdm  Married-civ-spouse   \n",
       "32557   40           Private     HS-grad  Married-civ-spouse   \n",
       "32558   58           Private     HS-grad             Widowed   \n",
       "32559   22           Private     HS-grad       Never-married   \n",
       "32560   52      Self-emp-inc     HS-grad  Married-civ-spouse   \n",
       "\n",
       "              occupation   relationship   race     sex  capital-gain  \\\n",
       "0           Adm-clerical  Not-in-family  White    Male          2174   \n",
       "1        Exec-managerial        Husband  White    Male             0   \n",
       "2      Handlers-cleaners  Not-in-family  White    Male             0   \n",
       "3      Handlers-cleaners        Husband  Black    Male             0   \n",
       "4         Prof-specialty           Wife  Black  Female             0   \n",
       "...                  ...            ...    ...     ...           ...   \n",
       "32556       Tech-support           Wife  White  Female             0   \n",
       "32557  Machine-op-inspct        Husband  White    Male             0   \n",
       "32558       Adm-clerical      Unmarried  White  Female             0   \n",
       "32559       Adm-clerical      Own-child  White    Male             0   \n",
       "32560    Exec-managerial           Wife  White  Female         15024   \n",
       "\n",
       "       capital-loss  hours-per-week native-country  class  \n",
       "0                 0              40  United-States  <=50K  \n",
       "1                 0              13  United-States  <=50K  \n",
       "2                 0              40  United-States  <=50K  \n",
       "3                 0              40  United-States  <=50K  \n",
       "4                 0              40           Cuba  <=50K  \n",
       "...             ...             ...            ...    ...  \n",
       "32556             0              38  United-States  <=50K  \n",
       "32557             0              40  United-States   >50K  \n",
       "32558             0              40  United-States  <=50K  \n",
       "32559             0              20  United-States  <=50K  \n",
       "32560             0              40  United-States   >50K  \n",
       "\n",
       "[32561 rows x 13 columns], feature_names=['age', 'workclass', 'education', 'marital-status', 'occupation', 'relationship', 'race', 'sex', 'capital-gain', 'capital-loss', 'hours-per-week', 'native-country'], numerical_cols=['age', 'capital-gain', 'capital-loss', 'hours-per-week'], categorical_cols=['workclass', 'education', 'marital-status', 'occupation', 'relationship', 'race', 'sex', 'native-country', 'class'], columns_type={'integer': ['age', 'capital-gain', 'capital-loss', 'hours-per-week'], 'float': [], 'string': ['workclass', 'education', 'marital-status', 'occupation', 'relationship', 'race', 'sex', 'native-country', 'class']}, target_name='class', possible_outcomes=['<=50K', '>50K'], scaled_df=            age         workclass   education      marital-status  \\\n",
       "0      0.301370         State-gov   Bachelors       Never-married   \n",
       "1      0.452055  Self-emp-not-inc   Bachelors  Married-civ-spouse   \n",
       "2      0.287671           Private     HS-grad            Divorced   \n",
       "3      0.493151           Private        11th  Married-civ-spouse   \n",
       "4      0.150685           Private   Bachelors  Married-civ-spouse   \n",
       "...         ...               ...         ...                 ...   \n",
       "32556  0.136986           Private  Assoc-acdm  Married-civ-spouse   \n",
       "32557  0.315068           Private     HS-grad  Married-civ-spouse   \n",
       "32558  0.561644           Private     HS-grad             Widowed   \n",
       "32559  0.068493           Private     HS-grad       Never-married   \n",
       "32560  0.479452      Self-emp-inc     HS-grad  Married-civ-spouse   \n",
       "\n",
       "              occupation   relationship   race     sex  capital-gain  \\\n",
       "0           Adm-clerical  Not-in-family  White    Male      0.021740   \n",
       "1        Exec-managerial        Husband  White    Male      0.000000   \n",
       "2      Handlers-cleaners  Not-in-family  White    Male      0.000000   \n",
       "3      Handlers-cleaners        Husband  Black    Male      0.000000   \n",
       "4         Prof-specialty           Wife  Black  Female      0.000000   \n",
       "...                  ...            ...    ...     ...           ...   \n",
       "32556       Tech-support           Wife  White  Female      0.000000   \n",
       "32557  Machine-op-inspct        Husband  White    Male      0.000000   \n",
       "32558       Adm-clerical      Unmarried  White  Female      0.000000   \n",
       "32559       Adm-clerical      Own-child  White    Male      0.000000   \n",
       "32560    Exec-managerial           Wife  White  Female      0.150242   \n",
       "\n",
       "       capital-loss  hours-per-week native-country  class  \n",
       "0               0.0        0.397959  United-States      0  \n",
       "1               0.0        0.122449  United-States      0  \n",
       "2               0.0        0.397959  United-States      0  \n",
       "3               0.0        0.397959  United-States      0  \n",
       "4               0.0        0.397959           Cuba      0  \n",
       "...             ...             ...            ...    ...  \n",
       "32556           0.0        0.377551  United-States      0  \n",
       "32557           0.0        0.397959  United-States      1  \n",
       "32558           0.0        0.397959  United-States      0  \n",
       "32559           0.0        0.193878  United-States      0  \n",
       "32560           0.0        0.397959  United-States      1  \n",
       "\n",
       "[32561 rows x 13 columns], scaler=MinMaxScaler(), cat_to_ohe_cat={'workclass': ['workclass_Federal-gov', 'workclass_Local-gov', 'workclass_Never-worked', 'workclass_Private', 'workclass_Self-emp-inc', 'workclass_Self-emp-not-inc', 'workclass_State-gov', 'workclass_Without-pay'], 'education': ['education_10th', 'education_11th', 'education_12th', 'education_1st-4th', 'education_5th-6th', 'education_7th-8th', 'education_9th', 'education_Assoc-acdm', 'education_Assoc-voc', 'education_Bachelors', 'education_Doctorate', 'education_HS-grad', 'education_Masters', 'education_Preschool', 'education_Prof-school', 'education_Some-college'], 'marital-status': ['marital-status_Divorced', 'marital-status_Married-AF-spouse', 'marital-status_Married-civ-spouse', 'marital-status_Married-spouse-absent', 'marital-status_Never-married', 'marital-status_Separated', 'marital-status_Widowed'], 'occupation': ['occupation_Adm-clerical', 'occupation_Armed-Forces', 'occupation_Craft-repair', 'occupation_Exec-managerial', 'occupation_Farming-fishing', 'occupation_Handlers-cleaners', 'occupation_Machine-op-inspct', 'occupation_Other-service', 'occupation_Priv-house-serv', 'occupation_Prof-specialty', 'occupation_Protective-serv', 'occupation_Sales', 'occupation_Tech-support', 'occupation_Transport-moving'], 'relationship': ['relationship_Husband', 'relationship_Not-in-family', 'relationship_Other-relative', 'relationship_Own-child', 'relationship_Unmarried', 'relationship_Wife'], 'race': ['race_Amer-Indian-Eskimo', 'race_Asian-Pac-Islander', 'race_Black', 'race_Other', 'race_White'], 'sex': ['sex_Female', 'sex_Male'], 'native-country': ['native-country_Cambodia', 'native-country_Canada', 'native-country_China', 'native-country_Columbia', 'native-country_Cuba', 'native-country_Dominican-Republic', 'native-country_Ecuador', 'native-country_El-Salvador', 'native-country_England', 'native-country_France', 'native-country_Germany', 'native-country_Greece', 'native-country_Guatemala', 'native-country_Haiti', 'native-country_Holand-Netherlands', 'native-country_Honduras', 'native-country_Hong', 'native-country_Hungary', 'native-country_India', 'native-country_Iran', 'native-country_Ireland', 'native-country_Italy', 'native-country_Jamaica', 'native-country_Japan', 'native-country_Laos', 'native-country_Mexico', 'native-country_Nicaragua', 'native-country_Outlying-US(Guam-USVI-etc)', 'native-country_Peru', 'native-country_Philippines', 'native-country_Poland', 'native-country_Portugal', 'native-country_Puerto-Rico', 'native-country_Scotland', 'native-country_South', 'native-country_Taiwan', 'native-country_Thailand', 'native-country_Trinadad&Tobago', 'native-country_United-States', 'native-country_Vietnam', 'native-country_Yugoslavia']}, ohe_feature_names=['age', 'capital-gain', 'capital-loss', 'hours-per-week', 'workclass_Federal-gov', 'workclass_Local-gov', 'workclass_Never-worked', 'workclass_Private', 'workclass_Self-emp-inc', 'workclass_Self-emp-not-inc', 'workclass_State-gov', 'workclass_Without-pay', 'education_10th', 'education_11th', 'education_12th', 'education_1st-4th', 'education_5th-6th', 'education_7th-8th', 'education_9th', 'education_Assoc-acdm', 'education_Assoc-voc', 'education_Bachelors', 'education_Doctorate', 'education_HS-grad', 'education_Masters', 'education_Preschool', 'education_Prof-school', 'education_Some-college', 'marital-status_Divorced', 'marital-status_Married-AF-spouse', 'marital-status_Married-civ-spouse', 'marital-status_Married-spouse-absent', 'marital-status_Never-married', 'marital-status_Separated', 'marital-status_Widowed', 'occupation_Adm-clerical', 'occupation_Armed-Forces', 'occupation_Craft-repair', 'occupation_Exec-managerial', 'occupation_Farming-fishing', 'occupation_Handlers-cleaners', 'occupation_Machine-op-inspct', 'occupation_Other-service', 'occupation_Priv-house-serv', 'occupation_Prof-specialty', 'occupation_Protective-serv', 'occupation_Sales', 'occupation_Tech-support', 'occupation_Transport-moving', 'relationship_Husband', 'relationship_Not-in-family', 'relationship_Other-relative', 'relationship_Own-child', 'relationship_Unmarried', 'relationship_Wife', 'race_Amer-Indian-Eskimo', 'race_Asian-Pac-Islander', 'race_Black', 'race_Other', 'race_White', 'sex_Female', 'sex_Male', 'native-country_Cambodia', 'native-country_Canada', 'native-country_China', 'native-country_Columbia', 'native-country_Cuba', 'native-country_Dominican-Republic', 'native-country_Ecuador', 'native-country_El-Salvador', 'native-country_England', 'native-country_France', 'native-country_Germany', 'native-country_Greece', 'native-country_Guatemala', 'native-country_Haiti', 'native-country_Holand-Netherlands', 'native-country_Honduras', 'native-country_Hong', 'native-country_Hungary', 'native-country_India', 'native-country_Iran', 'native-country_Ireland', 'native-country_Italy', 'native-country_Jamaica', 'native-country_Japan', 'native-country_Laos', 'native-country_Mexico', 'native-country_Nicaragua', 'native-country_Outlying-US(Guam-USVI-etc)', 'native-country_Peru', 'native-country_Philippines', 'native-country_Poland', 'native-country_Portugal', 'native-country_Puerto-Rico', 'native-country_Scotland', 'native-country_South', 'native-country_Taiwan', 'native-country_Thailand', 'native-country_Trinadad&Tobago', 'native-country_United-States', 'native-country_Vietnam', 'native-country_Yugoslavia'], target_label_encoder=LabelEncoder(), dummy_df=            age  capital-gain  capital-loss  hours-per-week  \\\n",
       "0      0.301370      0.021740           0.0        0.397959   \n",
       "1      0.452055      0.000000           0.0        0.122449   \n",
       "2      0.287671      0.000000           0.0        0.397959   \n",
       "3      0.493151      0.000000           0.0        0.397959   \n",
       "4      0.150685      0.000000           0.0        0.397959   \n",
       "...         ...           ...           ...             ...   \n",
       "32556  0.136986      0.000000           0.0        0.377551   \n",
       "32557  0.315068      0.000000           0.0        0.397959   \n",
       "32558  0.561644      0.000000           0.0        0.397959   \n",
       "32559  0.068493      0.000000           0.0        0.193878   \n",
       "32560  0.479452      0.150242           0.0        0.397959   \n",
       "\n",
       "       workclass_Federal-gov  workclass_Local-gov  workclass_Never-worked  \\\n",
       "0                          0                    0                       0   \n",
       "1                          0                    0                       0   \n",
       "2                          0                    0                       0   \n",
       "3                          0                    0                       0   \n",
       "4                          0                    0                       0   \n",
       "...                      ...                  ...                     ...   \n",
       "32556                      0                    0                       0   \n",
       "32557                      0                    0                       0   \n",
       "32558                      0                    0                       0   \n",
       "32559                      0                    0                       0   \n",
       "32560                      0                    0                       0   \n",
       "\n",
       "       workclass_Private  workclass_Self-emp-inc  workclass_Self-emp-not-inc  \\\n",
       "0                      0                       0                           0   \n",
       "1                      0                       0                           1   \n",
       "2                      1                       0                           0   \n",
       "3                      1                       0                           0   \n",
       "4                      1                       0                           0   \n",
       "...                  ...                     ...                         ...   \n",
       "32556                  1                       0                           0   \n",
       "32557                  1                       0                           0   \n",
       "32558                  1                       0                           0   \n",
       "32559                  1                       0                           0   \n",
       "32560                  0                       1                           0   \n",
       "\n",
       "       ...  native-country_Puerto-Rico  native-country_Scotland  \\\n",
       "0      ...                           0                        0   \n",
       "1      ...                           0                        0   \n",
       "2      ...                           0                        0   \n",
       "3      ...                           0                        0   \n",
       "4      ...                           0                        0   \n",
       "...    ...                         ...                      ...   \n",
       "32556  ...                           0                        0   \n",
       "32557  ...                           0                        0   \n",
       "32558  ...                           0                        0   \n",
       "32559  ...                           0                        0   \n",
       "32560  ...                           0                        0   \n",
       "\n",
       "       native-country_South  native-country_Taiwan  native-country_Thailand  \\\n",
       "0                         0                      0                        0   \n",
       "1                         0                      0                        0   \n",
       "2                         0                      0                        0   \n",
       "3                         0                      0                        0   \n",
       "4                         0                      0                        0   \n",
       "...                     ...                    ...                      ...   \n",
       "32556                     0                      0                        0   \n",
       "32557                     0                      0                        0   \n",
       "32558                     0                      0                        0   \n",
       "32559                     0                      0                        0   \n",
       "32560                     0                      0                        0   \n",
       "\n",
       "       native-country_Trinadad&Tobago  native-country_United-States  \\\n",
       "0                                   0                             1   \n",
       "1                                   0                             1   \n",
       "2                                   0                             1   \n",
       "3                                   0                             1   \n",
       "4                                   0                             0   \n",
       "...                               ...                           ...   \n",
       "32556                               0                             1   \n",
       "32557                               0                             1   \n",
       "32558                               0                             1   \n",
       "32559                               0                             1   \n",
       "32560                               0                             1   \n",
       "\n",
       "       native-country_Vietnam  native-country_Yugoslavia  class  \n",
       "0                           0                          0      0  \n",
       "1                           0                          0      0  \n",
       "2                           0                          0      0  \n",
       "3                           0                          0      0  \n",
       "4                           0                          0      0  \n",
       "...                       ...                        ...    ...  \n",
       "32556                       0                          0      0  \n",
       "32557                       0                          0      1  \n",
       "32558                       0                          0      0  \n",
       "32559                       0                          0      0  \n",
       "32560                       0                          0      1  \n",
       "\n",
       "[32561 rows x 104 columns])"
      ]
     },
     "execution_count": 6,
     "metadata": {},
     "output_type": "execute_result"
    }
   ],
   "source": [
    "#### Load datafram info.\n",
    "df_info = preprocess_df(dataset_loading_fn)\n",
    "df_info"
   ]
  },
  {
   "cell_type": "code",
   "execution_count": 18,
   "metadata": {},
   "outputs": [],
   "source": [
    "### Seperate to train and test set.\n",
    "train_df, test_df = train_test_split(df_info.dummy_df, train_size=.8, random_state=seed, shuffle=True)"
   ]
  },
  {
   "cell_type": "code",
   "execution_count": 19,
   "metadata": {},
   "outputs": [
    {
     "data": {
      "text/html": [
       "<div>\n",
       "<style scoped>\n",
       "    .dataframe tbody tr th:only-of-type {\n",
       "        vertical-align: middle;\n",
       "    }\n",
       "\n",
       "    .dataframe tbody tr th {\n",
       "        vertical-align: top;\n",
       "    }\n",
       "\n",
       "    .dataframe thead th {\n",
       "        text-align: right;\n",
       "    }\n",
       "</style>\n",
       "<table border=\"1\" class=\"dataframe\">\n",
       "  <thead>\n",
       "    <tr style=\"text-align: right;\">\n",
       "      <th></th>\n",
       "      <th>date</th>\n",
       "      <th>period</th>\n",
       "      <th>nswprice</th>\n",
       "      <th>nswdemand</th>\n",
       "      <th>vicprice</th>\n",
       "      <th>vicdemand</th>\n",
       "      <th>transfer</th>\n",
       "      <th>target</th>\n",
       "    </tr>\n",
       "  </thead>\n",
       "  <tbody>\n",
       "    <tr>\n",
       "      <th>3114</th>\n",
       "      <td>0.460334</td>\n",
       "      <td>0.361702</td>\n",
       "      <td>0.105589</td>\n",
       "      <td>0.512645</td>\n",
       "      <td>0.006992</td>\n",
       "      <td>0.591403</td>\n",
       "      <td>0.201188</td>\n",
       "      <td>1</td>\n",
       "    </tr>\n",
       "    <tr>\n",
       "      <th>7704</th>\n",
       "      <td>0.912172</td>\n",
       "      <td>0.021277</td>\n",
       "      <td>0.044710</td>\n",
       "      <td>0.220470</td>\n",
       "      <td>0.002879</td>\n",
       "      <td>0.312015</td>\n",
       "      <td>0.528121</td>\n",
       "      <td>1</td>\n",
       "    </tr>\n",
       "    <tr>\n",
       "      <th>17147</th>\n",
       "      <td>0.880581</td>\n",
       "      <td>0.021277</td>\n",
       "      <td>0.084995</td>\n",
       "      <td>0.434841</td>\n",
       "      <td>0.005388</td>\n",
       "      <td>0.422320</td>\n",
       "      <td>0.609510</td>\n",
       "      <td>1</td>\n",
       "    </tr>\n",
       "    <tr>\n",
       "      <th>8080</th>\n",
       "      <td>0.893899</td>\n",
       "      <td>0.170213</td>\n",
       "      <td>0.044834</td>\n",
       "      <td>0.290539</td>\n",
       "      <td>0.002690</td>\n",
       "      <td>0.415588</td>\n",
       "      <td>0.780978</td>\n",
       "      <td>0</td>\n",
       "    </tr>\n",
       "    <tr>\n",
       "      <th>7016</th>\n",
       "      <td>0.867130</td>\n",
       "      <td>0.340426</td>\n",
       "      <td>0.040442</td>\n",
       "      <td>0.506694</td>\n",
       "      <td>0.002709</td>\n",
       "      <td>0.324184</td>\n",
       "      <td>0.442615</td>\n",
       "      <td>1</td>\n",
       "    </tr>\n",
       "    <tr>\n",
       "      <th>...</th>\n",
       "      <td>...</td>\n",
       "      <td>...</td>\n",
       "      <td>...</td>\n",
       "      <td>...</td>\n",
       "      <td>...</td>\n",
       "      <td>...</td>\n",
       "      <td>...</td>\n",
       "      <td>...</td>\n",
       "    </tr>\n",
       "    <tr>\n",
       "      <th>15377</th>\n",
       "      <td>0.013495</td>\n",
       "      <td>0.787234</td>\n",
       "      <td>0.053714</td>\n",
       "      <td>0.668997</td>\n",
       "      <td>0.003467</td>\n",
       "      <td>0.422915</td>\n",
       "      <td>0.432556</td>\n",
       "      <td>0</td>\n",
       "    </tr>\n",
       "    <tr>\n",
       "      <th>21602</th>\n",
       "      <td>0.428963</td>\n",
       "      <td>0.468085</td>\n",
       "      <td>0.079138</td>\n",
       "      <td>0.350491</td>\n",
       "      <td>0.003467</td>\n",
       "      <td>0.422915</td>\n",
       "      <td>0.432556</td>\n",
       "      <td>1</td>\n",
       "    </tr>\n",
       "    <tr>\n",
       "      <th>17730</th>\n",
       "      <td>0.876023</td>\n",
       "      <td>0.404255</td>\n",
       "      <td>0.034179</td>\n",
       "      <td>0.557870</td>\n",
       "      <td>0.001867</td>\n",
       "      <td>0.537804</td>\n",
       "      <td>0.673982</td>\n",
       "      <td>1</td>\n",
       "    </tr>\n",
       "    <tr>\n",
       "      <th>15725</th>\n",
       "      <td>0.871997</td>\n",
       "      <td>0.468085</td>\n",
       "      <td>0.034179</td>\n",
       "      <td>0.503868</td>\n",
       "      <td>0.001695</td>\n",
       "      <td>0.275246</td>\n",
       "      <td>0.940557</td>\n",
       "      <td>0</td>\n",
       "    </tr>\n",
       "    <tr>\n",
       "      <th>19966</th>\n",
       "      <td>0.876067</td>\n",
       "      <td>0.659574</td>\n",
       "      <td>0.029224</td>\n",
       "      <td>0.307051</td>\n",
       "      <td>0.000837</td>\n",
       "      <td>0.275764</td>\n",
       "      <td>0.801555</td>\n",
       "      <td>1</td>\n",
       "    </tr>\n",
       "  </tbody>\n",
       "</table>\n",
       "<p>18467 rows × 8 columns</p>\n",
       "</div>"
      ],
      "text/plain": [
       "           date    period  nswprice  nswdemand  vicprice  vicdemand  transfer  \\\n",
       "3114   0.460334  0.361702  0.105589   0.512645  0.006992   0.591403  0.201188   \n",
       "7704   0.912172  0.021277  0.044710   0.220470  0.002879   0.312015  0.528121   \n",
       "17147  0.880581  0.021277  0.084995   0.434841  0.005388   0.422320  0.609510   \n",
       "8080   0.893899  0.170213  0.044834   0.290539  0.002690   0.415588  0.780978   \n",
       "7016   0.867130  0.340426  0.040442   0.506694  0.002709   0.324184  0.442615   \n",
       "...         ...       ...       ...        ...       ...        ...       ...   \n",
       "15377  0.013495  0.787234  0.053714   0.668997  0.003467   0.422915  0.432556   \n",
       "21602  0.428963  0.468085  0.079138   0.350491  0.003467   0.422915  0.432556   \n",
       "17730  0.876023  0.404255  0.034179   0.557870  0.001867   0.537804  0.673982   \n",
       "15725  0.871997  0.468085  0.034179   0.503868  0.001695   0.275246  0.940557   \n",
       "19966  0.876067  0.659574  0.029224   0.307051  0.000837   0.275764  0.801555   \n",
       "\n",
       "       target  \n",
       "3114        1  \n",
       "7704        1  \n",
       "17147       1  \n",
       "8080        0  \n",
       "7016        1  \n",
       "...       ...  \n",
       "15377       0  \n",
       "21602       1  \n",
       "17730       1  \n",
       "15725       0  \n",
       "19966       1  \n",
       "\n",
       "[18467 rows x 8 columns]"
      ]
     },
     "execution_count": 19,
     "metadata": {},
     "output_type": "execute_result"
    }
   ],
   "source": [
    "train_df"
   ]
  },
  {
   "cell_type": "code",
   "execution_count": 29,
   "metadata": {},
   "outputs": [
    {
     "data": {
      "text/html": [
       "<div>\n",
       "<style scoped>\n",
       "    .dataframe tbody tr th:only-of-type {\n",
       "        vertical-align: middle;\n",
       "    }\n",
       "\n",
       "    .dataframe tbody tr th {\n",
       "        vertical-align: top;\n",
       "    }\n",
       "\n",
       "    .dataframe thead th {\n",
       "        text-align: right;\n",
       "    }\n",
       "</style>\n",
       "<table border=\"1\" class=\"dataframe\">\n",
       "  <thead>\n",
       "    <tr style=\"text-align: right;\">\n",
       "      <th></th>\n",
       "      <th>date</th>\n",
       "      <th>period</th>\n",
       "      <th>nswprice</th>\n",
       "      <th>nswdemand</th>\n",
       "      <th>vicprice</th>\n",
       "      <th>vicdemand</th>\n",
       "      <th>transfer</th>\n",
       "      <th>target</th>\n",
       "    </tr>\n",
       "  </thead>\n",
       "  <tbody>\n",
       "    <tr>\n",
       "      <th>11086</th>\n",
       "      <td>0.460865</td>\n",
       "      <td>0.723404</td>\n",
       "      <td>0.142074</td>\n",
       "      <td>0.606665</td>\n",
       "      <td>0.009412</td>\n",
       "      <td>0.438374</td>\n",
       "      <td>0.426612</td>\n",
       "      <td>1</td>\n",
       "    </tr>\n",
       "    <tr>\n",
       "      <th>12114</th>\n",
       "      <td>0.013053</td>\n",
       "      <td>1.000000</td>\n",
       "      <td>0.050069</td>\n",
       "      <td>0.534216</td>\n",
       "      <td>0.003467</td>\n",
       "      <td>0.422915</td>\n",
       "      <td>0.432556</td>\n",
       "      <td>1</td>\n",
       "    </tr>\n",
       "    <tr>\n",
       "      <th>2277</th>\n",
       "      <td>0.014247</td>\n",
       "      <td>0.680851</td>\n",
       "      <td>0.042124</td>\n",
       "      <td>0.494942</td>\n",
       "      <td>0.003467</td>\n",
       "      <td>0.422915</td>\n",
       "      <td>0.432556</td>\n",
       "      <td>0</td>\n",
       "    </tr>\n",
       "    <tr>\n",
       "      <th>21817</th>\n",
       "      <td>0.437768</td>\n",
       "      <td>0.021277</td>\n",
       "      <td>0.049321</td>\n",
       "      <td>0.249926</td>\n",
       "      <td>0.003467</td>\n",
       "      <td>0.422915</td>\n",
       "      <td>0.432556</td>\n",
       "      <td>0</td>\n",
       "    </tr>\n",
       "    <tr>\n",
       "      <th>18012</th>\n",
       "      <td>0.013716</td>\n",
       "      <td>0.744681</td>\n",
       "      <td>0.047483</td>\n",
       "      <td>0.502380</td>\n",
       "      <td>0.003467</td>\n",
       "      <td>0.422915</td>\n",
       "      <td>0.432556</td>\n",
       "      <td>0</td>\n",
       "    </tr>\n",
       "    <tr>\n",
       "      <th>...</th>\n",
       "      <td>...</td>\n",
       "      <td>...</td>\n",
       "      <td>...</td>\n",
       "      <td>...</td>\n",
       "      <td>...</td>\n",
       "      <td>...</td>\n",
       "      <td>...</td>\n",
       "      <td>...</td>\n",
       "    </tr>\n",
       "    <tr>\n",
       "      <th>21693</th>\n",
       "      <td>0.030795</td>\n",
       "      <td>0.595745</td>\n",
       "      <td>0.115372</td>\n",
       "      <td>0.534811</td>\n",
       "      <td>0.003467</td>\n",
       "      <td>0.422915</td>\n",
       "      <td>0.432556</td>\n",
       "      <td>1</td>\n",
       "    </tr>\n",
       "    <tr>\n",
       "      <th>13622</th>\n",
       "      <td>0.009867</td>\n",
       "      <td>0.361702</td>\n",
       "      <td>0.049819</td>\n",
       "      <td>0.644749</td>\n",
       "      <td>0.003467</td>\n",
       "      <td>0.422915</td>\n",
       "      <td>0.432556</td>\n",
       "      <td>0</td>\n",
       "    </tr>\n",
       "    <tr>\n",
       "      <th>10376</th>\n",
       "      <td>0.013141</td>\n",
       "      <td>0.404255</td>\n",
       "      <td>0.043152</td>\n",
       "      <td>0.421749</td>\n",
       "      <td>0.003467</td>\n",
       "      <td>0.422915</td>\n",
       "      <td>0.432556</td>\n",
       "      <td>0</td>\n",
       "    </tr>\n",
       "    <tr>\n",
       "      <th>8542</th>\n",
       "      <td>0.867395</td>\n",
       "      <td>0.212766</td>\n",
       "      <td>0.021498</td>\n",
       "      <td>0.093127</td>\n",
       "      <td>0.000841</td>\n",
       "      <td>0.120663</td>\n",
       "      <td>0.941015</td>\n",
       "      <td>0</td>\n",
       "    </tr>\n",
       "    <tr>\n",
       "      <th>3698</th>\n",
       "      <td>0.438034</td>\n",
       "      <td>0.787234</td>\n",
       "      <td>0.120389</td>\n",
       "      <td>0.558465</td>\n",
       "      <td>0.003467</td>\n",
       "      <td>0.422915</td>\n",
       "      <td>0.432556</td>\n",
       "      <td>1</td>\n",
       "    </tr>\n",
       "  </tbody>\n",
       "</table>\n",
       "<p>4617 rows × 8 columns</p>\n",
       "</div>"
      ],
      "text/plain": [
       "           date    period  nswprice  nswdemand  vicprice  vicdemand  transfer  \\\n",
       "11086  0.460865  0.723404  0.142074   0.606665  0.009412   0.438374  0.426612   \n",
       "12114  0.013053  1.000000  0.050069   0.534216  0.003467   0.422915  0.432556   \n",
       "2277   0.014247  0.680851  0.042124   0.494942  0.003467   0.422915  0.432556   \n",
       "21817  0.437768  0.021277  0.049321   0.249926  0.003467   0.422915  0.432556   \n",
       "18012  0.013716  0.744681  0.047483   0.502380  0.003467   0.422915  0.432556   \n",
       "...         ...       ...       ...        ...       ...        ...       ...   \n",
       "21693  0.030795  0.595745  0.115372   0.534811  0.003467   0.422915  0.432556   \n",
       "13622  0.009867  0.361702  0.049819   0.644749  0.003467   0.422915  0.432556   \n",
       "10376  0.013141  0.404255  0.043152   0.421749  0.003467   0.422915  0.432556   \n",
       "8542   0.867395  0.212766  0.021498   0.093127  0.000841   0.120663  0.941015   \n",
       "3698   0.438034  0.787234  0.120389   0.558465  0.003467   0.422915  0.432556   \n",
       "\n",
       "       target  \n",
       "11086       1  \n",
       "12114       1  \n",
       "2277        0  \n",
       "21817       0  \n",
       "18012       0  \n",
       "...       ...  \n",
       "21693       1  \n",
       "13622       0  \n",
       "10376       0  \n",
       "8542        0  \n",
       "3698        1  \n",
       "\n",
       "[4617 rows x 8 columns]"
      ]
     },
     "execution_count": 29,
     "metadata": {},
     "output_type": "execute_result"
    }
   ],
   "source": [
    "test_df"
   ]
  },
  {
   "cell_type": "code",
   "execution_count": 20,
   "metadata": {},
   "outputs": [
    {
     "data": {
      "text/plain": [
       "4617"
      ]
     },
     "execution_count": 20,
     "metadata": {},
     "output_type": "execute_result"
    }
   ],
   "source": [
    "len(test_df)"
   ]
  },
  {
   "cell_type": "code",
   "execution_count": 21,
   "metadata": {},
   "outputs": [
    {
     "data": {
      "text/plain": [
       "18467"
      ]
     },
     "execution_count": 21,
     "metadata": {},
     "output_type": "execute_result"
    }
   ],
   "source": [
    "len(train_df)"
   ]
  },
  {
   "cell_type": "code",
   "execution_count": 22,
   "metadata": {},
   "outputs": [
    {
     "data": {
      "text/plain": [
       "<function utils.preprocessing.get_columns_type(df)>"
      ]
     },
     "execution_count": 22,
     "metadata": {},
     "output_type": "execute_result"
    }
   ],
   "source": [
    "get_columns_type"
   ]
  },
  {
   "cell_type": "code",
   "execution_count": 23,
   "metadata": {},
   "outputs": [
    {
     "data": {
      "text/plain": [
       "{'integer': [],\n",
       " 'float': ['date',\n",
       "  'period',\n",
       "  'nswprice',\n",
       "  'nswdemand',\n",
       "  'vicprice',\n",
       "  'vicdemand',\n",
       "  'transfer'],\n",
       " 'string': ['target']}"
      ]
     },
     "execution_count": 23,
     "metadata": {},
     "output_type": "execute_result"
    }
   ],
   "source": [
    "df_info.columns_type"
   ]
  },
  {
   "cell_type": "code",
   "execution_count": 24,
   "metadata": {},
   "outputs": [
    {
     "data": {
      "text/plain": [
       "7"
      ]
     },
     "execution_count": 24,
     "metadata": {},
     "output_type": "execute_result"
    }
   ],
   "source": [
    "len(df_info.numerical_cols)"
   ]
  },
  {
   "cell_type": "markdown",
   "metadata": {},
   "source": []
  },
  {
   "cell_type": "code",
   "execution_count": 28,
   "metadata": {},
   "outputs": [
    {
     "data": {
      "text/plain": [
       "['target']"
      ]
     },
     "execution_count": 28,
     "metadata": {},
     "output_type": "execute_result"
    }
   ],
   "source": [
    "df_info.categorical_cols\n"
   ]
  },
  {
   "cell_type": "code",
   "execution_count": 25,
   "metadata": {},
   "outputs": [
    {
     "data": {
      "text/plain": [
       "7"
      ]
     },
     "execution_count": 25,
     "metadata": {},
     "output_type": "execute_result"
    }
   ],
   "source": [
    "#df_info.categorical_cols\n",
    "\n",
    "#cat_to_ohe_cat\n",
    "len(df_info.ohe_feature_names)\n",
    "\n",
    "#print(len(df_info.ohe_feature_names.keys()))"
   ]
  },
  {
   "cell_type": "code",
   "execution_count": 26,
   "metadata": {},
   "outputs": [
    {
     "data": {
      "text/plain": [
       "{}"
      ]
     },
     "execution_count": 26,
     "metadata": {},
     "output_type": "execute_result"
    }
   ],
   "source": [
    "df_info.cat_to_ohe_cat"
   ]
  },
  {
   "cell_type": "code",
   "execution_count": 312,
   "metadata": {},
   "outputs": [
    {
     "data": {
      "text/plain": [
       "1"
      ]
     },
     "execution_count": 312,
     "metadata": {},
     "output_type": "execute_result"
    }
   ],
   "source": [
    "len(df_info.categorical_cols\n",
    ")"
   ]
  },
  {
   "cell_type": "code",
   "execution_count": 27,
   "metadata": {},
   "outputs": [
    {
     "data": {
      "text/plain": [
       "['target']"
      ]
     },
     "execution_count": 27,
     "metadata": {},
     "output_type": "execute_result"
    }
   ],
   "source": [
    "df_info.categorical_cols"
   ]
  },
  {
   "cell_type": "code",
   "execution_count": 31,
   "metadata": {},
   "outputs": [
    {
     "data": {
      "text/html": [
       "<div>\n",
       "<style scoped>\n",
       "    .dataframe tbody tr th:only-of-type {\n",
       "        vertical-align: middle;\n",
       "    }\n",
       "\n",
       "    .dataframe tbody tr th {\n",
       "        vertical-align: top;\n",
       "    }\n",
       "\n",
       "    .dataframe thead th {\n",
       "        text-align: right;\n",
       "    }\n",
       "</style>\n",
       "<table border=\"1\" class=\"dataframe\">\n",
       "  <thead>\n",
       "    <tr style=\"text-align: right;\">\n",
       "      <th></th>\n",
       "      <th>date</th>\n",
       "      <th>period</th>\n",
       "      <th>nswprice</th>\n",
       "      <th>nswdemand</th>\n",
       "      <th>vicprice</th>\n",
       "      <th>vicdemand</th>\n",
       "      <th>transfer</th>\n",
       "      <th>target</th>\n",
       "    </tr>\n",
       "  </thead>\n",
       "  <tbody>\n",
       "    <tr>\n",
       "      <th>0</th>\n",
       "      <td>0.429715</td>\n",
       "      <td>0.106383</td>\n",
       "      <td>0.042996</td>\n",
       "      <td>0.166022</td>\n",
       "      <td>0.003467</td>\n",
       "      <td>0.422915</td>\n",
       "      <td>0.432556</td>\n",
       "      <td>N</td>\n",
       "    </tr>\n",
       "    <tr>\n",
       "      <th>1</th>\n",
       "      <td>0.455909</td>\n",
       "      <td>0.574468</td>\n",
       "      <td>0.073094</td>\n",
       "      <td>0.578846</td>\n",
       "      <td>0.005164</td>\n",
       "      <td>0.720093</td>\n",
       "      <td>0.185186</td>\n",
       "      <td>Y</td>\n",
       "    </tr>\n",
       "    <tr>\n",
       "      <th>2</th>\n",
       "      <td>0.442724</td>\n",
       "      <td>0.702128</td>\n",
       "      <td>0.064556</td>\n",
       "      <td>0.528563</td>\n",
       "      <td>0.004285</td>\n",
       "      <td>0.545054</td>\n",
       "      <td>0.433013</td>\n",
       "      <td>N</td>\n",
       "    </tr>\n",
       "    <tr>\n",
       "      <th>3</th>\n",
       "      <td>0.881333</td>\n",
       "      <td>0.468085</td>\n",
       "      <td>0.034023</td>\n",
       "      <td>0.348557</td>\n",
       "      <td>0.002081</td>\n",
       "      <td>0.280684</td>\n",
       "      <td>0.690900</td>\n",
       "      <td>Y</td>\n",
       "    </tr>\n",
       "    <tr>\n",
       "      <th>4</th>\n",
       "      <td>0.885138</td>\n",
       "      <td>0.489362</td>\n",
       "      <td>0.036236</td>\n",
       "      <td>0.518001</td>\n",
       "      <td>0.002462</td>\n",
       "      <td>0.582859</td>\n",
       "      <td>0.235482</td>\n",
       "      <td>N</td>\n",
       "    </tr>\n",
       "    <tr>\n",
       "      <th>...</th>\n",
       "      <td>...</td>\n",
       "      <td>...</td>\n",
       "      <td>...</td>\n",
       "      <td>...</td>\n",
       "      <td>...</td>\n",
       "      <td>...</td>\n",
       "      <td>...</td>\n",
       "      <td>...</td>\n",
       "    </tr>\n",
       "    <tr>\n",
       "      <th>23079</th>\n",
       "      <td>0.911331</td>\n",
       "      <td>0.319149</td>\n",
       "      <td>0.047171</td>\n",
       "      <td>0.486760</td>\n",
       "      <td>0.003018</td>\n",
       "      <td>0.542983</td>\n",
       "      <td>0.438042</td>\n",
       "      <td>N</td>\n",
       "    </tr>\n",
       "    <tr>\n",
       "      <th>23080</th>\n",
       "      <td>0.474183</td>\n",
       "      <td>0.808511</td>\n",
       "      <td>0.028415</td>\n",
       "      <td>0.303184</td>\n",
       "      <td>0.001753</td>\n",
       "      <td>0.136199</td>\n",
       "      <td>0.873342</td>\n",
       "      <td>N</td>\n",
       "    </tr>\n",
       "    <tr>\n",
       "      <th>23081</th>\n",
       "      <td>0.912128</td>\n",
       "      <td>0.446809</td>\n",
       "      <td>0.045146</td>\n",
       "      <td>0.350788</td>\n",
       "      <td>0.002867</td>\n",
       "      <td>0.265924</td>\n",
       "      <td>0.687243</td>\n",
       "      <td>Y</td>\n",
       "    </tr>\n",
       "    <tr>\n",
       "      <th>23082</th>\n",
       "      <td>0.885403</td>\n",
       "      <td>0.914894</td>\n",
       "      <td>0.028166</td>\n",
       "      <td>0.434692</td>\n",
       "      <td>0.001843</td>\n",
       "      <td>0.418954</td>\n",
       "      <td>0.567901</td>\n",
       "      <td>N</td>\n",
       "    </tr>\n",
       "    <tr>\n",
       "      <th>23083</th>\n",
       "      <td>0.000796</td>\n",
       "      <td>0.574468</td>\n",
       "      <td>0.094373</td>\n",
       "      <td>0.308242</td>\n",
       "      <td>0.003467</td>\n",
       "      <td>0.422915</td>\n",
       "      <td>0.432556</td>\n",
       "      <td>N</td>\n",
       "    </tr>\n",
       "  </tbody>\n",
       "</table>\n",
       "<p>23084 rows × 8 columns</p>\n",
       "</div>"
      ],
      "text/plain": [
       "           date    period  nswprice  nswdemand  vicprice  vicdemand  transfer  \\\n",
       "0      0.429715  0.106383  0.042996   0.166022  0.003467   0.422915  0.432556   \n",
       "1      0.455909  0.574468  0.073094   0.578846  0.005164   0.720093  0.185186   \n",
       "2      0.442724  0.702128  0.064556   0.528563  0.004285   0.545054  0.433013   \n",
       "3      0.881333  0.468085  0.034023   0.348557  0.002081   0.280684  0.690900   \n",
       "4      0.885138  0.489362  0.036236   0.518001  0.002462   0.582859  0.235482   \n",
       "...         ...       ...       ...        ...       ...        ...       ...   \n",
       "23079  0.911331  0.319149  0.047171   0.486760  0.003018   0.542983  0.438042   \n",
       "23080  0.474183  0.808511  0.028415   0.303184  0.001753   0.136199  0.873342   \n",
       "23081  0.912128  0.446809  0.045146   0.350788  0.002867   0.265924  0.687243   \n",
       "23082  0.885403  0.914894  0.028166   0.434692  0.001843   0.418954  0.567901   \n",
       "23083  0.000796  0.574468  0.094373   0.308242  0.003467   0.422915  0.432556   \n",
       "\n",
       "      target  \n",
       "0          N  \n",
       "1          Y  \n",
       "2          N  \n",
       "3          Y  \n",
       "4          N  \n",
       "...      ...  \n",
       "23079      N  \n",
       "23080      N  \n",
       "23081      Y  \n",
       "23082      N  \n",
       "23083      N  \n",
       "\n",
       "[23084 rows x 8 columns]"
      ]
     },
     "execution_count": 31,
     "metadata": {},
     "output_type": "execute_result"
    }
   ],
   "source": [
    "scaled_cf_df = df_info.scaled_df\n",
    "scaled_cf_df"
   ]
  },
  {
   "cell_type": "code",
   "execution_count": 30,
   "metadata": {},
   "outputs": [
    {
     "data": {
      "text/html": [
       "<style>#sk-container-id-1 {color: black;}#sk-container-id-1 pre{padding: 0;}#sk-container-id-1 div.sk-toggleable {background-color: white;}#sk-container-id-1 label.sk-toggleable__label {cursor: pointer;display: block;width: 100%;margin-bottom: 0;padding: 0.3em;box-sizing: border-box;text-align: center;}#sk-container-id-1 label.sk-toggleable__label-arrow:before {content: \"▸\";float: left;margin-right: 0.25em;color: #696969;}#sk-container-id-1 label.sk-toggleable__label-arrow:hover:before {color: black;}#sk-container-id-1 div.sk-estimator:hover label.sk-toggleable__label-arrow:before {color: black;}#sk-container-id-1 div.sk-toggleable__content {max-height: 0;max-width: 0;overflow: hidden;text-align: left;background-color: #f0f8ff;}#sk-container-id-1 div.sk-toggleable__content pre {margin: 0.2em;color: black;border-radius: 0.25em;background-color: #f0f8ff;}#sk-container-id-1 input.sk-toggleable__control:checked~div.sk-toggleable__content {max-height: 200px;max-width: 100%;overflow: auto;}#sk-container-id-1 input.sk-toggleable__control:checked~label.sk-toggleable__label-arrow:before {content: \"▾\";}#sk-container-id-1 div.sk-estimator input.sk-toggleable__control:checked~label.sk-toggleable__label {background-color: #d4ebff;}#sk-container-id-1 div.sk-label input.sk-toggleable__control:checked~label.sk-toggleable__label {background-color: #d4ebff;}#sk-container-id-1 input.sk-hidden--visually {border: 0;clip: rect(1px 1px 1px 1px);clip: rect(1px, 1px, 1px, 1px);height: 1px;margin: -1px;overflow: hidden;padding: 0;position: absolute;width: 1px;}#sk-container-id-1 div.sk-estimator {font-family: monospace;background-color: #f0f8ff;border: 1px dotted black;border-radius: 0.25em;box-sizing: border-box;margin-bottom: 0.5em;}#sk-container-id-1 div.sk-estimator:hover {background-color: #d4ebff;}#sk-container-id-1 div.sk-parallel-item::after {content: \"\";width: 100%;border-bottom: 1px solid gray;flex-grow: 1;}#sk-container-id-1 div.sk-label:hover label.sk-toggleable__label {background-color: #d4ebff;}#sk-container-id-1 div.sk-serial::before {content: \"\";position: absolute;border-left: 1px solid gray;box-sizing: border-box;top: 0;bottom: 0;left: 50%;z-index: 0;}#sk-container-id-1 div.sk-serial {display: flex;flex-direction: column;align-items: center;background-color: white;padding-right: 0.2em;padding-left: 0.2em;position: relative;}#sk-container-id-1 div.sk-item {position: relative;z-index: 1;}#sk-container-id-1 div.sk-parallel {display: flex;align-items: stretch;justify-content: center;background-color: white;position: relative;}#sk-container-id-1 div.sk-item::before, #sk-container-id-1 div.sk-parallel-item::before {content: \"\";position: absolute;border-left: 1px solid gray;box-sizing: border-box;top: 0;bottom: 0;left: 50%;z-index: -1;}#sk-container-id-1 div.sk-parallel-item {display: flex;flex-direction: column;z-index: 1;position: relative;background-color: white;}#sk-container-id-1 div.sk-parallel-item:first-child::after {align-self: flex-end;width: 50%;}#sk-container-id-1 div.sk-parallel-item:last-child::after {align-self: flex-start;width: 50%;}#sk-container-id-1 div.sk-parallel-item:only-child::after {width: 0;}#sk-container-id-1 div.sk-dashed-wrapped {border: 1px dashed gray;margin: 0 0.4em 0.5em 0.4em;box-sizing: border-box;padding-bottom: 0.4em;background-color: white;}#sk-container-id-1 div.sk-label label {font-family: monospace;font-weight: bold;display: inline-block;line-height: 1.2em;}#sk-container-id-1 div.sk-label-container {text-align: center;}#sk-container-id-1 div.sk-container {/* jupyter's `normalize.less` sets `[hidden] { display: none; }` but bootstrap.min.css set `[hidden] { display: none !important; }` so we also need the `!important` here to be able to override the default hidden behavior on the sphinx rendered scikit-learn.org. See: https://github.com/scikit-learn/scikit-learn/issues/21755 */display: inline-block !important;position: relative;}#sk-container-id-1 div.sk-text-repr-fallback {display: none;}</style><div id=\"sk-container-id-1\" class=\"sk-top-container\"><div class=\"sk-text-repr-fallback\"><pre>LabelEncoder()</pre><b>In a Jupyter environment, please rerun this cell to show the HTML representation or trust the notebook. <br />On GitHub, the HTML representation is unable to render, please try loading this page with nbviewer.org.</b></div><div class=\"sk-container\" hidden><div class=\"sk-item\"><div class=\"sk-estimator sk-toggleable\"><input class=\"sk-toggleable__control sk-hidden--visually\" id=\"sk-estimator-id-1\" type=\"checkbox\" checked><label for=\"sk-estimator-id-1\" class=\"sk-toggleable__label sk-toggleable__label-arrow\">LabelEncoder</label><div class=\"sk-toggleable__content\"><pre>LabelEncoder()</pre></div></div></div></div></div>"
      ],
      "text/plain": [
       "LabelEncoder()"
      ]
     },
     "execution_count": 30,
     "metadata": {},
     "output_type": "execute_result"
    }
   ],
   "source": [
    "df_info.target_label_encoder.inverse_transform([scaled_cf_df.loc[0, df_info.target_name]])[0]"
   ]
  },
  {
   "cell_type": "code",
   "execution_count": null,
   "metadata": {},
   "outputs": [],
   "source": []
  }
 ],
 "metadata": {
  "kernelspec": {
   "display_name": "Python 3.7.11 ('cf_2022_final')",
   "language": "python",
   "name": "python3"
  },
  "language_info": {
   "codemirror_mode": {
    "name": "ipython",
    "version": 3
   },
   "file_extension": ".py",
   "mimetype": "text/x-python",
   "name": "python",
   "nbconvert_exporter": "python",
   "pygments_lexer": "ipython3",
   "version": "3.9.6"
  },
  "orig_nbformat": 4,
  "vscode": {
   "interpreter": {
    "hash": "ddbd05a1a14a3b0def6fc051a52a025c8773943fa7dc1baab0b936f7bf6828c8"
   }
  }
 },
 "nbformat": 4,
 "nbformat_minor": 2
}
