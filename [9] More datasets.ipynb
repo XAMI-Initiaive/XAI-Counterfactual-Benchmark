{
 "cells": [
  {
   "cell_type": "code",
   "execution_count": 4,
   "metadata": {},
   "outputs": [],
   "source": [
    "import numpy as np, pandas as pd\n",
    "import os\n",
    "import json\n",
    "from catboost import CatBoostRegressor, CatBoostClassifier\n",
    "from sklearn.metrics import log_loss, mean_squared_error"
   ]
  },
  {
   "cell_type": "code",
   "execution_count": 5,
   "metadata": {},
   "outputs": [
    {
     "data": {
      "text/plain": [
       "{'336': {'features': 'num', 'target': 'num'},\n",
       " '337': {'features': 'num', 'target': 'cat'},\n",
       " '335': {'features': 'num+cat', 'target': 'num'},\n",
       " '334': {'features': 'num+cat', 'target': 'cat'}}"
      ]
     },
     "execution_count": 5,
     "metadata": {},
     "output_type": "execute_result"
    }
   ],
   "source": [
    "#path = '/kaggle/input/bench-tab-v1/'\n",
    "path = './datasets/extra_datasets/'\n",
    "\n",
    "tasks = json.load(open(f'{path}train/dict_task.json'))\n",
    "suits = json.load(open(f'{path}train/dict_suit.json'))\n",
    "\n",
    "tasks"
   ]
  },
  {
   "cell_type": "code",
   "execution_count": 6,
   "metadata": {},
   "outputs": [
    {
     "data": {
      "text/plain": [
       "[361110, 361111, 361113, 361282, 361283, 361285, 361286]"
      ]
     },
     "execution_count": 6,
     "metadata": {},
     "output_type": "execute_result"
    }
   ],
   "source": [
    "suits['334']"
   ]
  },
  {
   "cell_type": "code",
   "execution_count": 31,
   "metadata": {},
   "outputs": [],
   "source": [
    "DEBUG = True\n",
    "# change here to get the dataset\n",
    "suits = {'334': [361285]} if DEBUG else suits\n",
    "n_seeds = 5"
   ]
  },
  {
   "cell_type": "code",
   "execution_count": 32,
   "metadata": {},
   "outputs": [],
   "source": [
    "def prepare_sub(data, identifier):\n",
    "    data = pd.DataFrame(data)\n",
    "    data.columns = ['target']\n",
    "    data['ID'] =  identifier + '_' + data.index.astype(str)\n",
    "    columns = ['ID','target']\n",
    "    return data[columns]"
   ]
  },
  {
   "cell_type": "code",
   "execution_count": 33,
   "metadata": {},
   "outputs": [],
   "source": [
    "# https://docs.google.com/spreadsheets/d/159UsoK3q2x-wXKoYEY-zHlZhiIcDgjCFbDW69QMmUnk/edit#gid=1822039730\n",
    "# map dataset suits to their true names\n",
    "suit_to_name = {}\n",
    "\n",
    "suit_to_name['361060'] = 'electricity'\n",
    "suit_to_name['361061'] = 'covertype'\n",
    "suit_to_name['361062'] = 'pol'\n",
    "suit_to_name['361063'] = 'house_16H'\n",
    "suit_to_name['361065'] = 'MagicTelescope'\n",
    "suit_to_name['361066'] = 'bank-marketing'\n",
    "suit_to_name['361276'] = 'Bioresponse'\n",
    "suit_to_name['361068'] = 'MiniBooNE'\n",
    "suit_to_name['361275'] = 'default-of-credit-card-clients'\n",
    "suit_to_name['361069'] = 'Higgs'\n",
    "suit_to_name['361070'] = 'eye_movements'\n",
    "suit_to_name['361273'] = 'Diabetes130US'\n",
    "suit_to_name['361274'] = 'jannis'\n",
    "suit_to_name['361278'] = 'heloc'\n",
    "suit_to_name['361055'] = 'credit'\n",
    "suit_to_name['361277'] = 'california'\n",
    "\n",
    "suit_to_name['361110'] = 'electricity_mixed'\n",
    "suit_to_name['361111'] = 'eye_movements_mixed'\n",
    "suit_to_name['361113'] = 'covertype_mixed'\n",
    "suit_to_name['361282'] = 'albert'\n",
    "suit_to_name['361285'] = 'road-safety'\n",
    "\n"
   ]
  },
  {
   "cell_type": "code",
   "execution_count": 34,
   "metadata": {},
   "outputs": [
    {
     "name": "stdout",
     "output_type": "stream",
     "text": [
      "334\n",
      "['Vehicle_Reference_df_res', 'Vehicle_Type', 'Vehicle_Manoeuvre', 'Vehicle_Location-Restricted_Lane', 'Hit_Object_in_Carriageway', 'Hit_Object_off_Carriageway', 'Was_Vehicle_Left_Hand_Drive?', 'Age_of_Driver', 'Age_Band_of_Driver', 'Engine_Capacity_(CC)', 'Propulsion_Code', 'Age_of_Vehicle', 'Location_Easting_OSGR', 'Location_Northing_OSGR', 'Longitude', 'Latitude', 'Police_Force', 'Number_of_Vehicles', 'Number_of_Casualties', 'Local_Authority_(District)', '1st_Road_Number', '2nd_Road_Number', 'Urban_or_Rural_Area', 'Vehicle_Reference_df', 'Casualty_Reference', 'Sex_of_Casualty', 'Age_of_Casualty', 'Age_Band_of_Casualty', 'Pedestrian_Location', 'Pedestrian_Movement', 'Casualty_Type', 'Casualty_IMD_Decile']\n",
      "{'Training Features': (46939, 32), 'Training Labels': (46939, 1), 'Validation Features': (10059, 32), 'Validation Labels': (10059, 1), 'Test Features': (10059, 32), 'Test Labels': (10059, 1)}\n",
      "Accuracy: 0.7939158962123471\n"
     ]
    }
   ],
   "source": [
    "from sklearn.model_selection import train_test_split\n",
    "from sklearn.preprocessing import OneHotEncoder\n",
    "from sklearn.metrics import accuracy_score, precision_score, recall_score\n",
    "\n",
    "import numpy as np\n",
    "\n",
    "\n",
    "res_gbdt = {}\n",
    "sub = []\n",
    "\n",
    "res_acc = {}\n",
    "\n",
    "for t in suits:\n",
    "    print(t)\n",
    "    for suit in suits[t]:\n",
    "        \n",
    "        identifier = f'{t}_{suit}'\n",
    "        task_type = tasks[t]\n",
    "        var_type = task_type['features']\n",
    "        target_type = task_type['target']\n",
    "\n",
    "        X = pd.read_parquet(f'{path}train/{identifier}/data_train.parquet')\n",
    "        #X_test = pd.read_parquet(f'{path}train/{identifier}/data_test.parquet')\n",
    "        y = pd.read_parquet(f'{path}train/{identifier}/target_train.parquet')\n",
    "        \n",
    "        names = json.load(open(f'{path}train/{identifier}/attribute_names.json'))\n",
    "        cat_indicator = json.load(open(f'{path}train/{identifier}/categorical_indicator.json'))\n",
    "        \n",
    "        print(names)\n",
    "        #if suit_to_name[str(suit)] == \"electricity\":\n",
    "        #    # drop date\n",
    "        #    X = X.drop(columns=['date'])\n",
    "        #    \n",
    "        #    # delete 'date' from names and cat_indicator\n",
    "        #    names = names[1:]\n",
    "        #    cat_indicator = cat_indicator[1:]\n",
    "            \n",
    "        \n",
    "        dataset_full = pd.concat([X,y],axis=1)\n",
    "        dataset_full.to_csv(f'./datasets/{suit_to_name[str(suit)]}.csv', index=False)\n",
    "        \n",
    "        # Split the dataset into training (70%), validation (15%), and test (15%) sets\n",
    "        X_train, X_temp, y_train, y_temp = train_test_split(X, y, test_size=0.3, random_state=42)\n",
    "        X_val, X_test, y_val, y_test = train_test_split(X_temp, y_temp, test_size=0.5, random_state=42)\n",
    "        \n",
    "        # save the dataset files\n",
    "        X_train.to_csv(f'./datasets/{suit_to_name[str(suit)]}_Xtrain.csv', index=False)\n",
    "        X_val.to_csv(f'./datasets/{suit_to_name[str(suit)]}_Xvalidation.csv', index=False)\n",
    "        X_test.to_csv(f'./datasets/{suit_to_name[str(suit)]}_Xtest.csv', index=False)\n",
    "        \n",
    "        y_train.to_csv(f'./datasets/{suit_to_name[str(suit)]}_Ytrain.csv', index=False)\n",
    "        y_val.to_csv(f'./datasets/{suit_to_name[str(suit)]}_Yvalidation.csv', index=False)\n",
    "        y_test.to_csv(f'./datasets/{suit_to_name[str(suit)]}_Ytest.csv', index=False)  \n",
    "\n",
    "        # Checking the shape of the splits\n",
    "        split_shapes = {\n",
    "            \"Training Features\": X_train.shape,\n",
    "            \"Training Labels\": y_train.shape,\n",
    "            \"Validation Features\": X_val.shape,\n",
    "            \"Validation Labels\": y_val.shape,\n",
    "            \"Test Features\": X_test.shape,\n",
    "            \"Test Labels\": y_test.shape\n",
    "        }\n",
    "\n",
    "        print(split_shapes)\n",
    "        \n",
    "        \n",
    "        preds = []\n",
    "        \n",
    "        for seed in range(n_seeds):\n",
    "        \n",
    "            gbdt_model = CatBoostRegressor(max_depth=10, random_seed=seed) if target_type=='num' else CatBoostClassifier(random_seed=seed)  \n",
    "            gbdt_model = gbdt_model.fit(X_train, y_train.values, cat_features=X_train.columns[cat_indicator].values, silent = True)\n",
    "            \n",
    "            if target_type=='num':\n",
    "                pred = gbdt_model.predict(X_test)\n",
    "                preds.append( pred )\n",
    "            else:\n",
    "                pred = gbdt_model.predict_proba(X_test)[:,1]\n",
    "                pred = [1 if p >= 0.5 else 0 for p in pred] \n",
    "                preds.append(pred)\n",
    "            \n",
    "        preds = np.mean(np.array(preds),axis=0)\n",
    "\n",
    "        # convert preds to int\n",
    "        preds = [1 if p >= 0.5 else 0 for p in preds]\n",
    "        \n",
    "        accuracy = accuracy_score(y_test['target'].values, preds)\n",
    "        \n",
    "        print(f'Accuracy: {accuracy}')\n",
    "        \n",
    "        preds = pd.DataFrame(preds)\n",
    "        preds.index = X_test.index\n",
    "        \n",
    "        res_acc[suit] = accuracy\n",
    "        "
   ]
  },
  {
   "cell_type": "code",
   "execution_count": 30,
   "metadata": {},
   "outputs": [
    {
     "data": {
      "text/html": [
       "<div>\n",
       "<style scoped>\n",
       "    .dataframe tbody tr th:only-of-type {\n",
       "        vertical-align: middle;\n",
       "    }\n",
       "\n",
       "    .dataframe tbody tr th {\n",
       "        vertical-align: top;\n",
       "    }\n",
       "\n",
       "    .dataframe thead th {\n",
       "        text-align: right;\n",
       "    }\n",
       "</style>\n",
       "<table border=\"1\" class=\"dataframe\">\n",
       "  <thead>\n",
       "    <tr style=\"text-align: right;\">\n",
       "      <th></th>\n",
       "      <th>target</th>\n",
       "    </tr>\n",
       "  </thead>\n",
       "  <tbody>\n",
       "    <tr>\n",
       "      <th>8072</th>\n",
       "      <td>0</td>\n",
       "    </tr>\n",
       "    <tr>\n",
       "      <th>48093</th>\n",
       "      <td>1</td>\n",
       "    </tr>\n",
       "    <tr>\n",
       "      <th>4312</th>\n",
       "      <td>0</td>\n",
       "    </tr>\n",
       "    <tr>\n",
       "      <th>52098</th>\n",
       "      <td>1</td>\n",
       "    </tr>\n",
       "    <tr>\n",
       "      <th>39033</th>\n",
       "      <td>1</td>\n",
       "    </tr>\n",
       "    <tr>\n",
       "      <th>...</th>\n",
       "      <td>...</td>\n",
       "    </tr>\n",
       "    <tr>\n",
       "      <th>5934</th>\n",
       "      <td>0</td>\n",
       "    </tr>\n",
       "    <tr>\n",
       "      <th>41030</th>\n",
       "      <td>1</td>\n",
       "    </tr>\n",
       "    <tr>\n",
       "      <th>20801</th>\n",
       "      <td>0</td>\n",
       "    </tr>\n",
       "    <tr>\n",
       "      <th>52313</th>\n",
       "      <td>1</td>\n",
       "    </tr>\n",
       "    <tr>\n",
       "      <th>3334</th>\n",
       "      <td>0</td>\n",
       "    </tr>\n",
       "  </tbody>\n",
       "</table>\n",
       "<p>5243 rows × 1 columns</p>\n",
       "</div>"
      ],
      "text/plain": [
       "       target\n",
       "8072        0\n",
       "48093       1\n",
       "4312        0\n",
       "52098       1\n",
       "39033       1\n",
       "...       ...\n",
       "5934        0\n",
       "41030       1\n",
       "20801       0\n",
       "52313       1\n",
       "3334        0\n",
       "\n",
       "[5243 rows x 1 columns]"
      ]
     },
     "execution_count": 30,
     "metadata": {},
     "output_type": "execute_result"
    }
   ],
   "source": [
    "y_test"
   ]
  },
  {
   "cell_type": "code",
   "execution_count": 33,
   "metadata": {},
   "outputs": [
    {
     "data": {
      "text/plain": [
       "target\n",
       "1         958\n",
       "0         899\n",
       "dtype: int64"
      ]
     },
     "execution_count": 33,
     "metadata": {},
     "output_type": "execute_result"
    }
   ],
   "source": [
    "y_test.value_counts()"
   ]
  },
  {
   "cell_type": "code",
   "execution_count": null,
   "metadata": {},
   "outputs": [],
   "source": []
  },
  {
   "cell_type": "code",
   "execution_count": null,
   "metadata": {},
   "outputs": [],
   "source": []
  }
 ],
 "metadata": {
  "kernelspec": {
   "display_name": "Python 3",
   "language": "python",
   "name": "python3"
  },
  "language_info": {
   "codemirror_mode": {
    "name": "ipython",
    "version": 3
   },
   "file_extension": ".py",
   "mimetype": "text/x-python",
   "name": "python",
   "nbconvert_exporter": "python",
   "pygments_lexer": "ipython3",
   "version": "3.9.6"
  }
 },
 "nbformat": 4,
 "nbformat_minor": 2
}
